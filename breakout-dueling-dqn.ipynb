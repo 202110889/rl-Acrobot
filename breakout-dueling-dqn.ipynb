{
 "cells": [
  {
   "cell_type": "code",
   "execution_count": 1,
   "metadata": {},
   "outputs": [
    {
     "data": {
      "text/plain": [
       "device(type='cpu')"
      ]
     },
     "execution_count": 1,
     "metadata": {},
     "output_type": "execute_result"
    }
   ],
   "source": [
    "import gymnasium as gym\n",
    "import ale_py\n",
    "gym.register_envs(ale_py)\n",
    "from IPython import display\n",
    "from gymnasium.wrappers import RecordVideo\n",
    "import ipywidgets as widgets\n",
    "import warnings\n",
    "from itertools import count\n",
    "import torch\n",
    "\n",
    "from torch import nn\n",
    "from torch.nn import functional as F\n",
    "from torch import optim\n",
    "from collections import deque, namedtuple\n",
    "import random\n",
    "from torchvision.transforms import ToTensor\n",
    "import math\n",
    "import numpy as np\n",
    "\n",
    "try:\n",
    "    # import torch_directml\n",
    "    global device\n",
    "    device = torch_directml.device()\n",
    "except (NameError, ModuleNotFoundError):\n",
    "    import intel_npu_acceleration_library\n",
    "    from intel_npu_acceleration_library import compile\n",
    "    device = torch.device(\"cpu\")\n",
    "except (NameError, ModuleNotFoundError):\n",
    "    device = torch.device(\n",
    "            \"cuda\" if torch.cuda.is_available() else\n",
    "            \"mps\" if torch.backends.mps.is_available() else\n",
    "            \"cpu\"\n",
    "        )\n",
    "\n",
    "warnings.filterwarnings(\"ignore\")\n",
    "device\n"
   ]
  },
  {
   "cell_type": "code",
   "execution_count": 2,
   "metadata": {},
   "outputs": [
    {
     "name": "stdout",
     "output_type": "stream",
     "text": [
      "(210, 160)\n"
     ]
    },
    {
     "data": {
      "application/vnd.jupyter.widget-view+json": {
       "model_id": "0bcdaa1c7e9c417993e34f05d1dd3bfe",
       "version_major": 2,
       "version_minor": 0
      },
      "text/plain": [
       "Video(value=b'\\x00\\x00\\x00 ftypisom\\x00\\x00\\x02\\x00isomiso2avc1mp41\\x00\\x00\\x00\\x08free...', autoplay='False',…"
      ]
     },
     "execution_count": 2,
     "metadata": {},
     "output_type": "execute_result"
    }
   ],
   "source": [
    "env = gym.make('ALE/Breakout-v5', render_mode='rgb_array', obs_type='grayscale')\n",
    "video_env = RecordVideo(env, video_folder=\"./videos\", disable_logger=True)\n",
    "done = False\n",
    "\n",
    "state, info = video_env.reset() # state: (210, 160, 3)\n",
    "print(state.shape)\n",
    "# Initialize the environment and get its state\n",
    "while not done:\n",
    "    # convert state to tensor\n",
    "    observation, reward, terminated, truncated, _ = video_env.step(video_env.action_space.sample())\n",
    "    done = terminated or truncated\n",
    "\n",
    "video_env.close()\n",
    "# Render recording\n",
    "widgets.Video.from_file(\n",
    "    f\"./videos/rl-video-episode-0.mp4\", autoplay=False, loop=False, width=700\n",
    ")\n"
   ]
  },
  {
   "cell_type": "markdown",
   "metadata": {},
   "source": [
    "- obs: array(210, 160)\n",
    "    + obs dataset: array(n, 4, 210, 160)\n",
    "- reward: float\n",
    "\n",
    "설계: 에피소드를 플레이해 기억 버퍼에 저장, 4개씩 임의로 뽑아 상태로 활용"
   ]
  },
  {
   "cell_type": "code",
   "execution_count": 3,
   "metadata": {},
   "outputs": [],
   "source": [
    "Transition = namedtuple(\"Transition\", (\"state\", \"action\", \"next_state\", \"reward\"))\n",
    "# Transition이란 이름을 일종의 구조체로\n",
    "\n",
    "class ReplayMemory(object):\n",
    "\n",
    "    def __init__(self, capacity):\n",
    "        self.memory = deque([], maxlen=capacity)\n",
    "\n",
    "    def push(self, *args):\n",
    "        \"\"\"Save a transition\"\"\"\n",
    "        self.memory.append(Transition(*args))\n",
    "\n",
    "    def sample(self, batch_size):\n",
    "        return random.sample(self.memory, batch_size)\n",
    "\n",
    "    def __len__(self):\n",
    "        return len(self.memory)"
   ]
  },
  {
   "cell_type": "code",
   "execution_count": 4,
   "metadata": {},
   "outputs": [],
   "source": [
    "class DQN(nn.Module):\n",
    "    def __init__(self, n_actions):\n",
    "        super().__init__()\n",
    "        self.fc=nn.Sequential(\n",
    "            nn.AdaptiveAvgPool2d(1), \n",
    "            nn.Flatten(),\n",
    "            nn.Linear(64, n_actions)\n",
    "            )\n",
    "        self.conv = nn.Sequential(\n",
    "            nn.Conv2d(4, 32, 3, padding=1),\n",
    "            nn.ReLU(),\n",
    "            nn.MaxPool2d(5),  # (42, 32)\n",
    "            nn.Conv2d(32, 64, 3, padding=1),\n",
    "            nn.ReLU(),\n",
    "        )\n",
    "    def forward(self, x):\n",
    "        conv0 = self.conv(x)\n",
    "        conv0_result = self.fc(conv0)\n",
    "        return conv0_result\n",
    "    "
   ]
  },
  {
   "cell_type": "code",
   "execution_count": 5,
   "metadata": {},
   "outputs": [],
   "source": [
    "# BATCH_SIZE is the number of transitions sampled from the replay buffer\n",
    "# GAMMA is the discount factor as mentioned in the previous section\n",
    "# EPS_START is the starting value of epsilon\n",
    "# EPS_END is the final value of epsilon\n",
    "# EPS_DECAY controls the rate of exponential decay of epsilon, higher means a slower decay\n",
    "# TAU is the update rate of the target network\n",
    "# LR is the learning rate of the ``AdamW`` optimizer\n",
    "BATCH_SIZE = 32\n",
    "GAMMA = 0.99\n",
    "EPS_START = 0.9\n",
    "EPS_END = 0.05\n",
    "EPS_DECAY = 1000\n",
    "TAU = 0.005\n",
    "LR = 1e-4\n",
    "\n",
    "# Get number of actions from gym action space\n",
    "n_actions = env.action_space.n\n",
    "# Get the number of state observations\n",
    "state, info = env.reset()\n",
    "n_observations = state.shape\n",
    "\n",
    "try:\n",
    "    policy_net = intel_npu_acceleration_library.compile(DQN(n_actions), dtype=torch.float32)\n",
    "    target_net = intel_npu_acceleration_library.compile(DQN(n_actions), dtype=torch.float32)\n",
    "except (NameError, ModuleNotFoundError):\n",
    "    policy_net = DQN(n_actions).to(device)\n",
    "    target_net = DQN(n_actions).to(device)\n",
    "# 처음에는 파라미터가 완전히 같게 시작\n",
    "\n",
    "target_net.load_state_dict(policy_net.state_dict())\n",
    "\n",
    "optimizer = optim.AdamW(policy_net.parameters(), lr=LR, amsgrad=True)\n",
    "memory = ReplayMemory(10000)\n",
    "\n",
    "\n",
    "steps_done = 0"
   ]
  },
  {
   "cell_type": "code",
   "execution_count": 6,
   "metadata": {},
   "outputs": [
    {
     "data": {
      "text/plain": [
       "tensor([[1]])"
      ]
     },
     "execution_count": 6,
     "metadata": {},
     "output_type": "execute_result"
    }
   ],
   "source": [
    "# module test\n",
    "# convert state to tensor\n",
    "test_state = []\n",
    "test_action = [0, 3, 1, 3]\n",
    "for a in test_action:\n",
    "    test_state.append(env.step(a)[0])\n",
    "test_state = torch.tensor(test_state, dtype=torch.float32, device=device) # (4, 210, 160)\n",
    "test_state = test_state.unsqueeze(0) # (1, 4, 210, 160)\n",
    "test_state_value = policy_net(test_state) # (1, 4)\n",
    "policy_net(test_state).max(1).indices.view(1,1)\n"
   ]
  },
  {
   "cell_type": "code",
   "execution_count": 7,
   "metadata": {},
   "outputs": [
    {
     "data": {
      "text/plain": [
       "tensor([[1]])"
      ]
     },
     "execution_count": 7,
     "metadata": {},
     "output_type": "execute_result"
    }
   ],
   "source": [
    "def select_action(state):\n",
    "    global steps_done\n",
    "    sample = random.random()\n",
    "    eps_threshold = EPS_END + (EPS_START - EPS_END) * math.exp(\n",
    "        -1.0 * steps_done / EPS_DECAY\n",
    "    )\n",
    "    steps_done += 1\n",
    "    if sample > eps_threshold:\n",
    "        with torch.no_grad():\n",
    "            # t.max(1) will return the largest column value of each row.\n",
    "            # second column on max result is index of where max element was\n",
    "            # found, so we pick action with the larger expected reward.\n",
    "            return policy_net(state).max(1).indices.view(1, 1)\n",
    "    else:\n",
    "        return torch.tensor(\n",
    "            [[env.action_space.sample()]], device=device, dtype=torch.long\n",
    "        )\n",
    "select_action(test_state)\n"
   ]
  },
  {
   "cell_type": "code",
   "execution_count": 8,
   "metadata": {},
   "outputs": [],
   "source": [
    "def optimize_model():\n",
    "    if len(memory) < BATCH_SIZE:\n",
    "        return\n",
    "    transitions = memory.sample(BATCH_SIZE) # (BATCH_SIZE, 4)\n",
    "    # Transpose the batch (see https://stackoverflow.com/a/19343/3343043 for\n",
    "    # detailed explanation). This converts batch-array of Transitions\n",
    "    # to Transition of batch-arrays.\n",
    "    \n",
    "    batch = Transition(*zip(*transitions)) # Transition(*zip(*(t1, t2,...))) == Transition(*zip((s, a, r, s), (s, a, r, s), ...))\n",
    "    # == Transition(list[s], list[a], list[r], list[s'])\n",
    "    # batch.next_state = (s'1, s'2, ...) => expected shape = (BATCH_SIZE, 4, 210, 160)\n",
    "\n",
    "    # Compute a mask of non-final states and concatenate the batch elements\n",
    "    # (a final state would've been the one after which simulation ended)\n",
    "    non_final_mask = torch.tensor(\n",
    "        tuple(map(lambda s: -1 not in s, batch.next_state)),\n",
    "        device=device,\n",
    "        dtype=torch.bool,\n",
    "    )\n",
    "    non_final_next_states = torch.cat([s for s in batch.next_state if -1 not in s])\n",
    "    state_batch = torch.cat(batch.state, 0)\n",
    "    action_batch = torch.cat(batch.action, 0)\n",
    "    reward_batch = torch.cat(batch.reward, 0)\n",
    "\n",
    "    # Compute Q(s_t, a) - the model computes Q(s_t), then we select the\n",
    "    # columns of actions taken. These are the actions which would've been taken\n",
    "    # for each batch state according to policy_net\n",
    "    # (BATCH_SIZE, 18).gather(1, actions) => 경험했던 각 상태에서 행동의 가치를 (BATCH_SIZE, 1) 크기의 텐서로 반환\n",
    "    \n",
    "    state_action_values = policy_net(state_batch).gather(1, action_batch) \n",
    "    # Compute V(s_{t+1}) for all next states.\n",
    "    # Expected values of actions for non_final_next_states are computed based\n",
    "    # on the \"older\" target_net; selecting their best reward with max(1).values\n",
    "    # This is merged based on the mask, such that we'll have either the expected\n",
    "    # state value or 0 in case the state was final.\n",
    "    next_state_values = torch.zeros(BATCH_SIZE, device=device)\n",
    "    with torch.no_grad():\n",
    "        next_state_values[non_final_mask] = (\n",
    "            target_net(non_final_next_states).max(1).values\n",
    "        )\n",
    "    # Compute the expected Q values\n",
    "    expected_state_action_values = (next_state_values * GAMMA) + reward_batch\n",
    "\n",
    "    # Compute Huber loss\n",
    "    criterion = nn.SmoothL1Loss()\n",
    "    loss = criterion(state_action_values, expected_state_action_values.unsqueeze(1))\n",
    "\n",
    "    # Optimize the model\n",
    "    optimizer.zero_grad()\n",
    "    loss.backward()\n",
    "    # In-place gradient clipping\n",
    "    torch.nn.utils.clip_grad_value_(policy_net.parameters(), 100)\n",
    "    optimizer.step()"
   ]
  },
  {
   "cell_type": "code",
   "execution_count": null,
   "metadata": {},
   "outputs": [
    {
     "name": "stdout",
     "output_type": "stream",
     "text": [
      "torch.Size([2, 210, 160])\n",
      "torch.Size([3, 210, 160])\n",
      "torch.Size([4, 210, 160])\n"
     ]
    },
    {
     "data": {
      "text/plain": [
       "tensor([[1]])"
      ]
     },
     "execution_count": 9,
     "metadata": {},
     "output_type": "execute_result"
    },
    {
     "ename": "",
     "evalue": "",
     "output_type": "error",
     "traceback": [
      "\u001b[1;31mThe Kernel crashed while executing code in the current cell or a previous cell. \n",
      "\u001b[1;31mPlease review the code in the cell(s) to identify a possible cause of the failure. \n",
      "\u001b[1;31mClick <a href='https://aka.ms/vscodeJupyterKernelCrash'>here</a> for more info. \n",
      "\u001b[1;31mView Jupyter <a href='command:jupyter.viewOutput'>log</a> for further details."
     ]
    }
   ],
   "source": [
    "# Initialize the environment and get its state\n",
    "state, info = env.reset() # state: (210, 160)\n",
    "# convert state to tensor\n",
    "state = torch.tensor(state, dtype=torch.float32, device=device).unsqueeze(0) # (1, 210, 160)\n",
    "for _ in range(3):\n",
    "    next_state = env.step(0)[0]\n",
    "    state = torch.cat((state, torch.tensor(next_state, dtype=torch.float32, device=device).unsqueeze(0)))\n",
    "    print(state.shape)\n",
    "action = select_action(state)\n",
    "action"
   ]
  },
  {
   "cell_type": "code",
   "execution_count": null,
   "metadata": {},
   "outputs": [
    {
     "name": "stdout",
     "output_type": "stream",
     "text": [
      "learning 0th state...\n",
      "learning 100th state...\n",
      "learning 200th state...\n",
      "learning 300th state...\n",
      "terminated\n",
      "learning 0th state...\n"
     ]
    }
   ],
   "source": [
    "import torchvision.transforms as T\n",
    "num_episodes = 10\n",
    "memory = ReplayMemory(10000)\n",
    "for i_episode in range(num_episodes):\n",
    "    # Initialize the environment and get its state\n",
    "    state_piece, info = env.reset() # state_piece: (210, 160)\n",
    "    # convert state to tensor\n",
    "    transform = T.ToTensor()\n",
    "    state_piece = transform(state_piece) # (1, 210, 160)\n",
    "    state = torch.cat((\n",
    "        torch.zeros((3, *state_piece.shape[1:]), device=device, dtype=torch.float32), \n",
    "        state_piece\n",
    "        )).unsqueeze(0)\n",
    "    for t in count(): \n",
    "        action = select_action(state)\n",
    "        observation, reward, terminated, truncated, _ = env.step(action.item())\n",
    "        reward = torch.tensor([reward], device=device)\n",
    "        done = terminated or truncated\n",
    "        if terminated:\n",
    "            print(\"terminated\")\n",
    "            next_state = np.ones((4, *state.shape[2:])) * -1\n",
    "            break;\n",
    "        else:\n",
    "            next_state_piece = torch.tensor(\n",
    "                observation, dtype=torch.float32, device=device\n",
    "            ).unsqueeze(0) # (210, 160) -> (1, 210, 160)\n",
    "            next_state = torch.cat((state.squeeze(0), next_state_piece))[:4].unsqueeze(0)\n",
    "\n",
    "        # Store the transition in memory\n",
    "        memory.push(state, action, next_state, reward)\n",
    "\n",
    "        # Move to the next state\n",
    "        state = next_state\n",
    "\n",
    "        # Perform one step of the optimization (on the policy network)\n",
    "        optimize_model()\n",
    "\n",
    "        # Soft update of the target network's weights\n",
    "        # θ′ ← τ θ + (1 −τ )θ′\n",
    "        target_net_state_dict = target_net.state_dict()\n",
    "        policy_net_state_dict = policy_net.state_dict()\n",
    "        for key in policy_net_state_dict:\n",
    "            target_net_state_dict[key] = policy_net_state_dict[\n",
    "                key\n",
    "            ] * TAU + target_net_state_dict[key] * (1 - TAU)\n",
    "        target_net.load_state_dict(target_net_state_dict)\n",
    "        if t % 100 == 0:\n",
    "            print(f\"learning {t}th state...\")\n",
    "        if done:\n",
    "            print(f\"episode {i_episode} completed!\")\n",
    "            break\n",
    "\n",
    "print(\"Complete\")"
   ]
  },
  {
   "cell_type": "code",
   "execution_count": null,
   "metadata": {},
   "outputs": [
    {
     "name": "stdout",
     "output_type": "stream",
     "text": [
      "\u001b[1;31mDocstring:\u001b[0m\n",
      "ones(*size, *, out=None, dtype=None, layout=torch.strided, device=None, requires_grad=False) -> Tensor\n",
      "\n",
      "Returns a tensor filled with the scalar value `1`, with the shape defined\n",
      "by the variable argument :attr:`size`.\n",
      "\n",
      "Args:\n",
      "    size (int...): a sequence of integers defining the shape of the output tensor.\n",
      "        Can be a variable number of arguments or a collection like a list or tuple.\n",
      "\n",
      "Keyword arguments:\n",
      "    out (Tensor, optional): the output tensor.\n",
      "    dtype (:class:`torch.dtype`, optional): the desired data type of returned tensor.\n",
      "        Default: if ``None``, uses a global default (see :func:`torch.set_default_dtype`).\n",
      "    layout (:class:`torch.layout`, optional): the desired layout of returned Tensor.\n",
      "        Default: ``torch.strided``.\n",
      "    device (:class:`torch.device`, optional): the desired device of returned tensor.\n",
      "        Default: if ``None``, uses the current device for the default tensor type\n",
      "        (see :func:`torch.set_default_device`). :attr:`device` will be the CPU\n",
      "        for CPU tensor types and the current CUDA device for CUDA tensor types.\n",
      "    requires_grad (bool, optional): If autograd should record operations on the\n",
      "        returned tensor. Default: ``False``.\n",
      "\n",
      "Example::\n",
      "\n",
      "    >>> torch.ones(2, 3)\n",
      "    tensor([[ 1.,  1.,  1.],\n",
      "            [ 1.,  1.,  1.]])\n",
      "\n",
      "    >>> torch.ones(5)\n",
      "    tensor([ 1.,  1.,  1.,  1.,  1.])\n",
      "\u001b[1;31mType:\u001b[0m      builtin_function_or_method"
     ]
    }
   ],
   "source": [
    "torch.ones?"
   ]
  },
  {
   "cell_type": "code",
   "execution_count": null,
   "metadata": {},
   "outputs": [],
   "source": [
    "# Initialize environment\n",
    "base_env = gym.make('ALE/IceHockey-v5', render_mode='rgb_array')\n",
    "video_env = RecordVideo(base_env, video_folder=\"./videos\", disable_logger=True)\n",
    "done = False\n",
    "\n",
    "# Initialize the environment and get its state\n",
    "while not done:\n",
    "    state, info = video_env.reset() # state: (210, 160, 3)\n",
    "    # convert state to tensor\n",
    "    state = torch.tensor(state.transpose(2, 0, 1), dtype=torch.float32, device=device).unsqueeze(0) # (210, 160, 3) -> (3, 210, 160) -> (1, 3, 210, 160)\n",
    "    action = select_action(state)\n",
    "    observation, reward, terminated, truncated, _ = video_env.step(action.item())\n",
    "    done = terminated or truncated\n",
    "\n",
    "\n",
    "# Render recording\n",
    "widgets.Video.from_file(\n",
    "    f\"./videos/rl-video-episode-0.mp4\", autoplay=False, loop=False, width=700\n",
    ")\n"
   ]
  },
  {
   "cell_type": "code",
   "execution_count": null,
   "metadata": {},
   "outputs": [],
   "source": []
  }
 ],
 "metadata": {
  "kernelspec": {
   "display_name": ".venv-gymnasium",
   "language": "python",
   "name": "python3"
  },
  "language_info": {
   "codemirror_mode": {
    "name": "ipython",
    "version": 3
   },
   "file_extension": ".py",
   "mimetype": "text/x-python",
   "name": "python",
   "nbconvert_exporter": "python",
   "pygments_lexer": "ipython3",
   "version": "3.10.10"
  }
 },
 "nbformat": 4,
 "nbformat_minor": 2
}
